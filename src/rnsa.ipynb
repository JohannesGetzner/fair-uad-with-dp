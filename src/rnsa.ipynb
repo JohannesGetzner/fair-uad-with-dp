{
 "cells": [
  {
   "cell_type": "code",
   "execution_count": 2,
   "id": "initial_id",
   "metadata": {
    "collapsed": true,
    "ExecuteTime": {
     "end_time": "2023-12-02T20:50:44.518772795Z",
     "start_time": "2023-12-02T20:50:44.455130448Z"
    }
   },
   "outputs": [],
   "source": [
    "import pandas as pd\n",
    "import numpy as np\n",
    "import seaborn as sns\n",
    "import matplotlib.pyplot as plt"
   ]
  },
  {
   "cell_type": "code",
   "execution_count": 3,
   "outputs": [
    {
     "data": {
      "text/plain": "                                  patientId  label  PatientAge PatientSex\n2      935f4fd2-337a-4a58-9004-2c56af697428      0          75          M\n3      9e743877-0a64-443e-a305-3771a2e7ee89      0          57          M\n7      e77dfc75-8bdd-4aee-967c-c7d97f9771f8      0          36          F\n8      195033e1-ab56-4857-8b68-ef116fa576aa      1          55          F\n9      8a5cff4d-53d2-4a42-94da-e4b3f2008b1d      1          38          F\n...                                     ...    ...         ...        ...\n26677  a304611a-7d97-428b-a09e-26c9d11d4f51      0          23          M\n26678  8ec613cb-5c01-43b1-92e3-929cb536e77f      0          40          M\n26679  bd8f8b0b-a89b-42f5-b92c-c0a152c6c1f2      1          47          M\n26682  4e1aa7f5-2f63-4783-ac89-27cf07280c71      0          25          M\n26683  7a6b03a2-68f3-4c26-9e8d-c2208505b352      0          56          M\n\n[14863 rows x 4 columns]",
      "text/html": "<div>\n<style scoped>\n    .dataframe tbody tr th:only-of-type {\n        vertical-align: middle;\n    }\n\n    .dataframe tbody tr th {\n        vertical-align: top;\n    }\n\n    .dataframe thead th {\n        text-align: right;\n    }\n</style>\n<table border=\"1\" class=\"dataframe\">\n  <thead>\n    <tr style=\"text-align: right;\">\n      <th></th>\n      <th>patientId</th>\n      <th>label</th>\n      <th>PatientAge</th>\n      <th>PatientSex</th>\n    </tr>\n  </thead>\n  <tbody>\n    <tr>\n      <th>2</th>\n      <td>935f4fd2-337a-4a58-9004-2c56af697428</td>\n      <td>0</td>\n      <td>75</td>\n      <td>M</td>\n    </tr>\n    <tr>\n      <th>3</th>\n      <td>9e743877-0a64-443e-a305-3771a2e7ee89</td>\n      <td>0</td>\n      <td>57</td>\n      <td>M</td>\n    </tr>\n    <tr>\n      <th>7</th>\n      <td>e77dfc75-8bdd-4aee-967c-c7d97f9771f8</td>\n      <td>0</td>\n      <td>36</td>\n      <td>F</td>\n    </tr>\n    <tr>\n      <th>8</th>\n      <td>195033e1-ab56-4857-8b68-ef116fa576aa</td>\n      <td>1</td>\n      <td>55</td>\n      <td>F</td>\n    </tr>\n    <tr>\n      <th>9</th>\n      <td>8a5cff4d-53d2-4a42-94da-e4b3f2008b1d</td>\n      <td>1</td>\n      <td>38</td>\n      <td>F</td>\n    </tr>\n    <tr>\n      <th>...</th>\n      <td>...</td>\n      <td>...</td>\n      <td>...</td>\n      <td>...</td>\n    </tr>\n    <tr>\n      <th>26677</th>\n      <td>a304611a-7d97-428b-a09e-26c9d11d4f51</td>\n      <td>0</td>\n      <td>23</td>\n      <td>M</td>\n    </tr>\n    <tr>\n      <th>26678</th>\n      <td>8ec613cb-5c01-43b1-92e3-929cb536e77f</td>\n      <td>0</td>\n      <td>40</td>\n      <td>M</td>\n    </tr>\n    <tr>\n      <th>26679</th>\n      <td>bd8f8b0b-a89b-42f5-b92c-c0a152c6c1f2</td>\n      <td>1</td>\n      <td>47</td>\n      <td>M</td>\n    </tr>\n    <tr>\n      <th>26682</th>\n      <td>4e1aa7f5-2f63-4783-ac89-27cf07280c71</td>\n      <td>0</td>\n      <td>25</td>\n      <td>M</td>\n    </tr>\n    <tr>\n      <th>26683</th>\n      <td>7a6b03a2-68f3-4c26-9e8d-c2208505b352</td>\n      <td>0</td>\n      <td>56</td>\n      <td>M</td>\n    </tr>\n  </tbody>\n</table>\n<p>14863 rows × 4 columns</p>\n</div>"
     },
     "execution_count": 3,
     "metadata": {},
     "output_type": "execute_result"
    }
   ],
   "source": [
    "data = pd.read_csv('./data/csvs/rsna_metadata.csv')\n",
    "data = data.loc[data.label != 2]\n",
    "data"
   ],
   "metadata": {
    "collapsed": false,
    "ExecuteTime": {
     "end_time": "2023-12-02T20:50:44.519637569Z",
     "start_time": "2023-12-02T20:50:44.497870219Z"
    }
   },
   "id": "54efae160b940cff"
  },
  {
   "cell_type": "code",
   "execution_count": 4,
   "outputs": [
    {
     "data": {
      "text/plain": "(14863, 4)"
     },
     "execution_count": 4,
     "metadata": {},
     "output_type": "execute_result"
    }
   ],
   "source": [
    "data.shape"
   ],
   "metadata": {
    "collapsed": false,
    "ExecuteTime": {
     "end_time": "2023-12-02T20:50:44.519992241Z",
     "start_time": "2023-12-02T20:50:44.500199729Z"
    }
   },
   "id": "62fe064bf8f506d7"
  },
  {
   "cell_type": "code",
   "execution_count": 5,
   "outputs": [
    {
     "data": {
      "text/plain": "(14860, 4)"
     },
     "execution_count": 5,
     "metadata": {},
     "output_type": "execute_result"
    }
   ],
   "source": [
    "# remove samples with PatientAge > 110\n",
    "data = data[data['PatientAge'] < 110]\n",
    "data.shape"
   ],
   "metadata": {
    "collapsed": false,
    "ExecuteTime": {
     "end_time": "2023-12-02T20:50:44.520393347Z",
     "start_time": "2023-12-02T20:50:44.503718386Z"
    }
   },
   "id": "57046bb13b4e4477"
  },
  {
   "cell_type": "code",
   "execution_count": 6,
   "outputs": [
    {
     "data": {
      "text/plain": "(3223, 4)"
     },
     "execution_count": 6,
     "metadata": {},
     "output_type": "execute_result"
    }
   ],
   "source": [
    "young_data = data[data['PatientAge'] < 31]\n",
    "young_data.shape"
   ],
   "metadata": {
    "collapsed": false,
    "ExecuteTime": {
     "end_time": "2023-12-02T20:50:44.609090754Z",
     "start_time": "2023-12-02T20:50:44.509784915Z"
    }
   },
   "id": "63df3821aa3e0591"
  },
  {
   "cell_type": "code",
   "execution_count": 7,
   "outputs": [
    {
     "data": {
      "text/plain": "(2840, 4)"
     },
     "execution_count": 7,
     "metadata": {},
     "output_type": "execute_result"
    }
   ],
   "source": [
    "old_data = data[data['PatientAge'] >= 61]\n",
    "old_data.shape"
   ],
   "metadata": {
    "collapsed": false,
    "ExecuteTime": {
     "end_time": "2023-12-02T20:50:44.609664030Z",
     "start_time": "2023-12-02T20:50:44.553863291Z"
    }
   },
   "id": "54e3516d05fe6bba"
  },
  {
   "cell_type": "code",
   "execution_count": 8,
   "outputs": [
    {
     "name": "stdout",
     "output_type": "stream",
     "text": [
      "6063\n"
     ]
    }
   ],
   "source": [
    "# count combination of young and old\n",
    "print(len(young_data)+len(old_data))"
   ],
   "metadata": {
    "collapsed": false,
    "ExecuteTime": {
     "end_time": "2023-12-02T20:50:44.610003177Z",
     "start_time": "2023-12-02T20:50:44.554087738Z"
    }
   },
   "id": "2970cf30a3257f03"
  },
  {
   "cell_type": "code",
   "execution_count": 9,
   "outputs": [
    {
     "data": {
      "text/plain": "(6406, 4)"
     },
     "execution_count": 9,
     "metadata": {},
     "output_type": "execute_result"
    }
   ],
   "source": [
    "female_data = data[data[\"PatientSex\"] == \"F\"]\n",
    "female_data.shape"
   ],
   "metadata": {
    "collapsed": false,
    "ExecuteTime": {
     "end_time": "2023-12-02T20:50:44.610364947Z",
     "start_time": "2023-12-02T20:50:44.554262258Z"
    }
   },
   "id": "474808ad6763e9ab"
  },
  {
   "cell_type": "code",
   "execution_count": 10,
   "outputs": [
    {
     "data": {
      "text/plain": "(8454, 4)"
     },
     "execution_count": 10,
     "metadata": {},
     "output_type": "execute_result"
    }
   ],
   "source": [
    "male_data = data[data[\"PatientSex\"] == \"M\"]\n",
    "male_data.shape"
   ],
   "metadata": {
    "collapsed": false,
    "ExecuteTime": {
     "end_time": "2023-12-02T20:50:44.610743709Z",
     "start_time": "2023-12-02T20:50:44.554408084Z"
    }
   },
   "id": "ed4504ed3a8ddcc4"
  },
  {
   "cell_type": "code",
   "execution_count": 14,
   "outputs": [
    {
     "data": {
      "text/plain": "                                  patientId  label  PatientAge PatientSex\n8      195033e1-ab56-4857-8b68-ef116fa576aa      1          55          F\n9      8a5cff4d-53d2-4a42-94da-e4b3f2008b1d      1          38          F\n11     97b49b96-d8ba-4fed-bc9e-e0912c9f66eb      1          63          M\n12     ae909ea7-5fde-4d40-8295-337f5fe62d29      1          71          F\n21     1d247b6c-0687-40bf-839e-fd30e01c585d      1          53          F\n...                                     ...    ...         ...        ...\n26668  81638698-2938-4b4c-8c47-729da3b5c37b      1          51          F\n26670  1a7606e0-4d81-4bbe-ae22-93ca30540cb9      1          34          F\n26671  32e8b837-8656-47e1-87ec-b365c7670984      1          63          F\n26673  11a2e0cb-ee1f-4d53-a211-b8faff6bf888      1          27          M\n26679  bd8f8b0b-a89b-42f5-b92c-c0a152c6c1f2      1          47          M\n\n[6012 rows x 4 columns]",
      "text/html": "<div>\n<style scoped>\n    .dataframe tbody tr th:only-of-type {\n        vertical-align: middle;\n    }\n\n    .dataframe tbody tr th {\n        vertical-align: top;\n    }\n\n    .dataframe thead th {\n        text-align: right;\n    }\n</style>\n<table border=\"1\" class=\"dataframe\">\n  <thead>\n    <tr style=\"text-align: right;\">\n      <th></th>\n      <th>patientId</th>\n      <th>label</th>\n      <th>PatientAge</th>\n      <th>PatientSex</th>\n    </tr>\n  </thead>\n  <tbody>\n    <tr>\n      <th>8</th>\n      <td>195033e1-ab56-4857-8b68-ef116fa576aa</td>\n      <td>1</td>\n      <td>55</td>\n      <td>F</td>\n    </tr>\n    <tr>\n      <th>9</th>\n      <td>8a5cff4d-53d2-4a42-94da-e4b3f2008b1d</td>\n      <td>1</td>\n      <td>38</td>\n      <td>F</td>\n    </tr>\n    <tr>\n      <th>11</th>\n      <td>97b49b96-d8ba-4fed-bc9e-e0912c9f66eb</td>\n      <td>1</td>\n      <td>63</td>\n      <td>M</td>\n    </tr>\n    <tr>\n      <th>12</th>\n      <td>ae909ea7-5fde-4d40-8295-337f5fe62d29</td>\n      <td>1</td>\n      <td>71</td>\n      <td>F</td>\n    </tr>\n    <tr>\n      <th>21</th>\n      <td>1d247b6c-0687-40bf-839e-fd30e01c585d</td>\n      <td>1</td>\n      <td>53</td>\n      <td>F</td>\n    </tr>\n    <tr>\n      <th>...</th>\n      <td>...</td>\n      <td>...</td>\n      <td>...</td>\n      <td>...</td>\n    </tr>\n    <tr>\n      <th>26668</th>\n      <td>81638698-2938-4b4c-8c47-729da3b5c37b</td>\n      <td>1</td>\n      <td>51</td>\n      <td>F</td>\n    </tr>\n    <tr>\n      <th>26670</th>\n      <td>1a7606e0-4d81-4bbe-ae22-93ca30540cb9</td>\n      <td>1</td>\n      <td>34</td>\n      <td>F</td>\n    </tr>\n    <tr>\n      <th>26671</th>\n      <td>32e8b837-8656-47e1-87ec-b365c7670984</td>\n      <td>1</td>\n      <td>63</td>\n      <td>F</td>\n    </tr>\n    <tr>\n      <th>26673</th>\n      <td>11a2e0cb-ee1f-4d53-a211-b8faff6bf888</td>\n      <td>1</td>\n      <td>27</td>\n      <td>M</td>\n    </tr>\n    <tr>\n      <th>26679</th>\n      <td>bd8f8b0b-a89b-42f5-b92c-c0a152c6c1f2</td>\n      <td>1</td>\n      <td>47</td>\n      <td>M</td>\n    </tr>\n  </tbody>\n</table>\n<p>6012 rows × 4 columns</p>\n</div>"
     },
     "execution_count": 14,
     "metadata": {},
     "output_type": "execute_result"
    }
   ],
   "source": [
    "data.loc[data.label == 1]"
   ],
   "metadata": {
    "collapsed": false,
    "ExecuteTime": {
     "end_time": "2023-12-02T20:53:25.344528635Z",
     "start_time": "2023-12-02T20:53:25.334788526Z"
    }
   },
   "id": "6f1f8cbdc5205a35"
  }
 ],
 "metadata": {
  "kernelspec": {
   "display_name": "Python 3",
   "language": "python",
   "name": "python3"
  },
  "language_info": {
   "codemirror_mode": {
    "name": "ipython",
    "version": 2
   },
   "file_extension": ".py",
   "mimetype": "text/x-python",
   "name": "python",
   "nbconvert_exporter": "python",
   "pygments_lexer": "ipython2",
   "version": "2.7.6"
  }
 },
 "nbformat": 4,
 "nbformat_minor": 5
}
