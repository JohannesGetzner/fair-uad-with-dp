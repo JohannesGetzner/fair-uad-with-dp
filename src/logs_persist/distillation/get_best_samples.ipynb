{
 "cells": [
  {
   "cell_type": "code",
   "execution_count": null,
   "id": "initial_id",
   "metadata": {
    "collapsed": true
   },
   "outputs": [],
   "source": [
    "import matplotlib.pyplot as plt\n",
    "import seaborn as sns\n",
    "sns.set(style=\"whitegrid\", context=\"notebook\",font_scale=1.2)\n",
    "import pandas as pd\n",
    "# disable setting with copy warning\n",
    "pd.options.mode.chained_assignment = None\n",
    "import numpy as np\n",
    "import os\n",
    "import warnings\n",
    "warnings.filterwarnings(\"ignore\", category=FutureWarning)\n",
    "import matplotlib.pyplot as plt\n",
    "import pydicom"
   ]
  },
  {
   "cell_type": "code",
   "execution_count": null,
   "outputs": [],
   "source": [
    "PV = \"age\"\n",
    "if PV == \"age\":\n",
    "    groups = [\"old\", \"young\"]\n",
    "else:\n",
    "    groups = [\"male\", \"female\"]"
   ],
   "metadata": {
    "collapsed": false
   },
   "id": "e4e70751e03f9bf8"
  },
  {
   "cell_type": "code",
   "execution_count": null,
   "outputs": [],
   "source": [
    "def load_csvs_into_df(dir):\n",
    "    dirs = [os.path.join(dir,d) for d in os.listdir(dir) if os.path.isdir(os.path.join(dir,d))]\n",
    "    dfs = []\n",
    "    sample_dfs = []\n",
    "    for d in dirs:\n",
    "        seeds = [f for f in os.listdir(os.path.join('./',d)) if f.startswith('seed')]\n",
    "        # get last number from directory name\n",
    "        train_loader_num = int(d.split('_')[-1])\n",
    "        for seed in seeds:\n",
    "            results = [f for f in os.listdir(os.path.join(d,seed)) if f.startswith('test_results')][0]\n",
    "            sample_info = [f for f in os.listdir(os.path.join(d,seed)) if f.startswith('train_loader')][0]\n",
    "            results_df = pd.read_csv(os.path.join(d, seed, results))\n",
    "            sample_df = pd.read_csv(os.path.join(d, seed, sample_info))\n",
    "            results_df[\"train_loader_num\"] = train_loader_num\n",
    "            sample_df[\"train_loader_num\"] = train_loader_num\n",
    "            dfs.append(results_df)\n",
    "            sample_dfs.append(sample_df)\n",
    "    return pd.concat(dfs, ignore_index=True), pd.concat(sample_dfs, ignore_index=True)"
   ],
   "metadata": {
    "collapsed": false
   },
   "id": "682179823104f147"
  },
  {
   "cell_type": "code",
   "execution_count": null,
   "outputs": [],
   "source": [
    "df_1, df_samples_1 = load_csvs_into_df('./2023-10-13 11:56:26-FAE-rsna-age-bs32-dataset-distillation-nsamples1-noDP')\n",
    "df_1[\"num_samples\"] = 1\n",
    "df_samples_1[\"num_samples\"] = 1"
   ],
   "metadata": {
    "collapsed": false
   },
   "id": "35e1f2f56a2325f7"
  },
  {
   "cell_type": "code",
   "execution_count": 33,
   "outputs": [],
   "source": [
    "relevant_cols = [\"test/lungOpacity_old_subgroupAUROC\",\"test/lungOpacity_young_subgroupAUROC\", \"train_loader_num\"]\n",
    "df_1 = df_1[relevant_cols]\n",
    "df_1[\"AUROC_sum\"] = df_1[\"test/lungOpacity_old_subgroupAUROC\"] + df_1[\"test/lungOpacity_young_subgroupAUROC\"]\n",
    "# join df_1 with df_samples_1\n",
    "df_1 = df_1.merge(df_samples_1, on=\"train_loader_num\")"
   ],
   "metadata": {
    "collapsed": false,
    "ExecuteTime": {
     "end_time": "2023-10-20T16:43:51.161158315Z",
     "start_time": "2023-10-20T16:43:51.120507783Z"
    }
   },
   "id": "50ad860bd7e52b7b"
  },
  {
   "cell_type": "code",
   "execution_count": null,
   "outputs": [],
   "source": [
    "score_vars = [\"test/lungOpacity_old_subgroupAUROC\",\"test/lungOpacity_young_subgroupAUROC\", \"AUROC_sum\"]"
   ],
   "metadata": {
    "collapsed": false
   },
   "id": "91716c056ce72ff3"
  },
  {
   "cell_type": "code",
   "execution_count": 41,
   "outputs": [],
   "source": [
    "subsets = []\n",
    "for mode in [\"min\",\"max\"]:\n",
    "    for score_var in score_vars:\n",
    "        for subset_size in [1,3,5,10,15,25,30,35,40,45,50]:\n",
    "            df_1.sort_values(by=score_var, ascending=False if mode == \"max\" else True, inplace=True)\n",
    "            subsets.append({\n",
    "                \"mode\": mode,\n",
    "                \"score_var\": score_var,\n",
    "                \"filenames\": list(df_1.iloc[0:subset_size][\"filenames\"]),\n",
    "                \"scores\": list(df_1.iloc[0:subset_size][score_var]),\n",
    "                \"size\": subset_size\n",
    "            })\n",
    "# dump to json\n",
    "import json\n",
    "with open('subsets.json', 'w') as outfile:\n",
    "    json.dump(subsets, outfile)"
   ],
   "metadata": {
    "collapsed": false,
    "ExecuteTime": {
     "end_time": "2023-10-20T16:50:29.569191086Z",
     "start_time": "2023-10-20T16:50:29.524858260Z"
    }
   },
   "id": "3a8e1ac70996cf03"
  }
 ],
 "metadata": {
  "kernelspec": {
   "display_name": "Python 3",
   "language": "python",
   "name": "python3"
  },
  "language_info": {
   "codemirror_mode": {
    "name": "ipython",
    "version": 2
   },
   "file_extension": ".py",
   "mimetype": "text/x-python",
   "name": "python",
   "nbconvert_exporter": "python",
   "pygments_lexer": "ipython2",
   "version": "2.7.6"
  }
 },
 "nbformat": 4,
 "nbformat_minor": 5
}
