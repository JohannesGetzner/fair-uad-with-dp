{
 "cells": [
  {
   "cell_type": "code",
   "execution_count": 1,
   "id": "initial_id",
   "metadata": {
    "collapsed": true,
    "ExecuteTime": {
     "end_time": "2023-10-27T19:05:41.412113132Z",
     "start_time": "2023-10-27T19:05:41.307594142Z"
    }
   },
   "outputs": [],
   "source": [
    "import matplotlib.pyplot as plt\n",
    "import seaborn as sns\n",
    "sns.set(style=\"whitegrid\", context=\"notebook\",font_scale=1.2)\n",
    "import pandas as pd\n",
    "# disable setting with copy warning\n",
    "pd.options.mode.chained_assignment = None\n",
    "import numpy as np\n",
    "import os\n",
    "import warnings\n",
    "warnings.filterwarnings(\"ignore\", category=FutureWarning)\n",
    "import matplotlib.pyplot as plt\n",
    "import pydicom\n",
    "import json"
   ]
  },
  {
   "cell_type": "code",
   "execution_count": 2,
   "outputs": [],
   "source": [
    "PV = \"age\"\n",
    "if PV == \"age\":\n",
    "    groups = [\"old\", \"young\"]\n",
    "else:\n",
    "    groups = [\"male\", \"female\"]"
   ],
   "metadata": {
    "collapsed": false,
    "ExecuteTime": {
     "end_time": "2023-10-27T19:05:41.455531816Z",
     "start_time": "2023-10-27T19:05:41.412761997Z"
    }
   },
   "id": "e4e70751e03f9bf8"
  },
  {
   "cell_type": "code",
   "execution_count": 3,
   "outputs": [],
   "source": [
    "def load_csvs_into_df(dir):\n",
    "    dirs = [os.path.join(dir,d) for d in os.listdir(dir) if os.path.isdir(os.path.join(dir,d))]\n",
    "    dfs = []\n",
    "    sample_dfs = []\n",
    "    for d in dirs:\n",
    "        seeds = [f for f in os.listdir(os.path.join('./',d)) if f.startswith('seed')]\n",
    "        # get last number from directory name\n",
    "        train_loader_num = int(d.split('_')[-1])\n",
    "        for seed in seeds:\n",
    "            results = [f for f in os.listdir(os.path.join(d,seed)) if f.startswith('test_results')][0]\n",
    "            sample_info = [f for f in os.listdir(os.path.join(d,seed)) if f.startswith('train_loader')][0]\n",
    "            results_df = pd.read_csv(os.path.join(d, seed, results))\n",
    "            sample_df = pd.read_csv(os.path.join(d, seed, sample_info))\n",
    "            results_df[\"train_loader_num\"] = train_loader_num\n",
    "            sample_df[\"train_loader_num\"] = train_loader_num\n",
    "            dfs.append(results_df)\n",
    "            sample_dfs.append(sample_df)\n",
    "    return pd.concat(dfs, ignore_index=True), pd.concat(sample_dfs, ignore_index=True)"
   ],
   "metadata": {
    "collapsed": false,
    "ExecuteTime": {
     "end_time": "2023-10-27T19:05:41.455793080Z",
     "start_time": "2023-10-27T19:05:41.453893153Z"
    }
   },
   "id": "682179823104f147"
  },
  {
   "cell_type": "code",
   "execution_count": 4,
   "outputs": [],
   "source": [
    "df_1_fae, df_samples_1_fae= load_csvs_into_df('./2023-10-13 11:56:26-FAE-rsna-age-bs32-dataset-distillation-nsamples1-noDP')\n",
    "df_1_fae[\"model\"] = \"FAE\"\n",
    "\n",
    "df_1_rd, df_samples_1_rd = load_csvs_into_df('./2023-10-24 21:59:39-RD-rsna-age-bs32-dataset-distillation-nsamples1-noDP' )\n",
    "df_1_rd[\"model\"] = \"RD\""
   ],
   "metadata": {
    "collapsed": false,
    "ExecuteTime": {
     "end_time": "2023-10-27T19:05:50.351705318Z",
     "start_time": "2023-10-27T19:05:41.454043947Z"
    }
   },
   "id": "35e1f2f56a2325f7"
  },
  {
   "cell_type": "code",
   "execution_count": 7,
   "outputs": [],
   "source": [
    "score_vars = [\"test/lungOpacity_old_subgroupAUROC\",\"test/lungOpacity_young_subgroupAUROC\", \"AUROC_sum\"]"
   ],
   "metadata": {
    "collapsed": false,
    "ExecuteTime": {
     "end_time": "2023-10-27T19:08:15.937071035Z",
     "start_time": "2023-10-27T19:08:15.919372810Z"
    }
   },
   "id": "eb1f13eaad698799"
  },
  {
   "cell_type": "code",
   "execution_count": 10,
   "outputs": [],
   "source": [
    "def get_subsets(df, df_samples, model:str):\n",
    "    relevant_cols = [\"test/lungOpacity_old_subgroupAUROC\",\"test/lungOpacity_young_subgroupAUROC\", \"train_loader_num\", \"model\"]\n",
    "    df = df[relevant_cols]\n",
    "    df[\"AUROC_sum\"] = df[\"test/lungOpacity_old_subgroupAUROC\"] + df[\"test/lungOpacity_young_subgroupAUROC\"]\n",
    "    # join df_1 with df_samples_1\n",
    "    df = df.merge(df_samples, on=\"train_loader_num\")\n",
    "    subsets = []\n",
    "    for mode in [\"min\",\"max\"]:\n",
    "        for score_var in score_vars:\n",
    "            for subset_size in [1,3,5,10,15,25,30,35,40,45,50]:\n",
    "                df.sort_values(by=score_var, ascending=False if mode == \"max\" else True, inplace=True)\n",
    "                subsets.append({\n",
    "                    \"mode\": mode,\n",
    "                    \"score_var\": score_var,\n",
    "                    \"filenames\": list(df.iloc[0:subset_size][\"filenames\"]),\n",
    "                    \"scores\": list(df.iloc[0:subset_size][score_var]),\n",
    "                    \"size\": subset_size\n",
    "                })\n",
    "    with open(f'subsets_{model}.json', 'w') as outfile:\n",
    "        json.dump(subsets, outfile)\n",
    "    # second subset\n",
    "    combined_sets = []\n",
    "    for mode in [\"min\",\"max\"]:\n",
    "        for subset_size in [1,3,5,10,15,25,30,35,40,45,50]:\n",
    "            # filter subset list \n",
    "            subset = [s for s in subsets if s[\"mode\"] == mode and s[\"size\"] == subset_size and s[\"score_var\"] != \"AUROC_sum\"]\n",
    "            combined_set = {\n",
    "                \"mode\": mode,\n",
    "                \"score_vars\": [subset[0][\"score_var\"], subset[1][\"score_var\"]],\n",
    "                \"filenames\": {subset[0][\"score_var\"]: subset[0][\"filenames\"], subset[1][\"score_var\"]: subset[1][\"filenames\"]},\n",
    "                \"scores\": {subset[0][\"score_var\"]: subset[0][\"scores\"], subset[1][\"score_var\"]: subset[1][\"scores\"]},\n",
    "                \"size\": subset_size*2\n",
    "            }\n",
    "            combined_sets.append(combined_set)\n",
    "    with open(f'subsets_combined_{model}.json', 'w') as outfile:\n",
    "        json.dump(combined_sets, outfile)"
   ],
   "metadata": {
    "collapsed": false,
    "ExecuteTime": {
     "end_time": "2023-10-27T19:10:47.674016035Z",
     "start_time": "2023-10-27T19:10:47.627384576Z"
    }
   },
   "id": "e77a0664cb59015"
  },
  {
   "cell_type": "code",
   "execution_count": 12,
   "outputs": [],
   "source": [
    "# fae\n",
    "get_subsets(df_1_fae, df_samples_1_fae, \"FAE\")\n",
    "# rd\n",
    "get_subsets(df_1_rd, df_samples_1_rd, \"RD\")"
   ],
   "metadata": {
    "collapsed": false,
    "ExecuteTime": {
     "end_time": "2023-10-27T19:10:54.215653742Z",
     "start_time": "2023-10-27T19:10:54.149330842Z"
    }
   },
   "id": "3dcead408bb8fdf5"
  }
 ],
 "metadata": {
  "kernelspec": {
   "display_name": "Python 3",
   "language": "python",
   "name": "python3"
  },
  "language_info": {
   "codemirror_mode": {
    "name": "ipython",
    "version": 2
   },
   "file_extension": ".py",
   "mimetype": "text/x-python",
   "name": "python",
   "nbconvert_exporter": "python",
   "pygments_lexer": "ipython2",
   "version": "2.7.6"
  }
 },
 "nbformat": 4,
 "nbformat_minor": 5
}
