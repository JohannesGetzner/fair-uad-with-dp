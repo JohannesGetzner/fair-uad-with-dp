{
 "cells": [
  {
   "cell_type": "code",
   "execution_count": 13,
   "id": "initial_id",
   "metadata": {
    "collapsed": true,
    "ExecuteTime": {
     "end_time": "2023-09-18T15:11:29.600091196Z",
     "start_time": "2023-09-18T15:11:29.500735994Z"
    }
   },
   "outputs": [],
   "source": [
    "import seaborn as sns\n",
    "# set font-scale\n",
    "sns.set(style=\"whitegrid\", context=\"notebook\",font_scale=1.2)\n",
    "import matplotlib.pyplot as plt\n",
    "import pandas as pd\n",
    "import numpy as np\n",
    "import os"
   ]
  },
  {
   "cell_type": "code",
   "execution_count": 14,
   "outputs": [],
   "source": [
    "def load_csvs_into_df(dir):\n",
    "    dirs = [os.path.join(dir,d) for d in os.listdir(dir) if os.path.isdir(os.path.join(dir,d))]\n",
    "    dfs = []\n",
    "    for d in dirs:\n",
    "        seeds = [f for f in os.listdir(os.path.join('./',d)) if f.startswith('seed')]\n",
    "        for seed in seeds:\n",
    "            results = [f for f in os.listdir(os.path.join(d,seed)) if f.startswith('test_results')][0]\n",
    "            results_df = pd.read_csv(os.path.join(d, seed, results))\n",
    "            dfs.append(results_df)\n",
    "    df = pd.concat(dfs)\n",
    "    return df"
   ],
   "metadata": {
    "collapsed": false,
    "ExecuteTime": {
     "end_time": "2023-09-18T15:11:29.600467689Z",
     "start_time": "2023-09-18T15:11:29.543805057Z"
    }
   },
   "id": "1c106f3b752d0fa7"
  },
  {
   "cell_type": "code",
   "execution_count": 15,
   "outputs": [],
   "source": [
    "df = load_csvs_into_df('./')"
   ],
   "metadata": {
    "collapsed": false,
    "ExecuteTime": {
     "end_time": "2023-09-18T15:11:29.601145067Z",
     "start_time": "2023-09-18T15:11:29.544122344Z"
    }
   },
   "id": "5e9aa081399fce7a"
  },
  {
   "cell_type": "code",
   "execution_count": 16,
   "outputs": [],
   "source": [
    "# only keep relevant columns\n",
    "df = df[['seed','effective_dataset_size','test/lungOpacity_young_subgroupAUROC','test/lungOpacity_old_subgroupAUROC','protected_attr_percent']]"
   ],
   "metadata": {
    "collapsed": false,
    "ExecuteTime": {
     "end_time": "2023-09-18T15:11:29.601406140Z",
     "start_time": "2023-09-18T15:11:29.569938221Z"
    }
   },
   "id": "674f491f6d608ff3"
  },
  {
   "cell_type": "code",
   "execution_count": 17,
   "outputs": [],
   "source": [
    "df = pd.melt(df, id_vars=['seed','protected_attr_percent','effective_dataset_size'], value_vars=['test/lungOpacity_young_subgroupAUROC','test/lungOpacity_old_subgroupAUROC'])"
   ],
   "metadata": {
    "collapsed": false,
    "ExecuteTime": {
     "end_time": "2023-09-18T15:11:29.602039085Z",
     "start_time": "2023-09-18T15:11:29.573966705Z"
    }
   },
   "id": "3992786af71457c"
  },
  {
   "cell_type": "code",
   "execution_count": 18,
   "outputs": [
    {
     "name": "stdout",
     "output_type": "stream",
     "text": [
      "['test/lungOpacity_young_subgroupAUROC'\n",
      " 'test/lungOpacity_old_subgroupAUROC']\n"
     ]
    },
    {
     "data": {
      "text/plain": "   seed  protected_attr_percent  effective_dataset_size variable   value\n0     1                     0.5                   0.005    young  0.4362\n1     2                     0.5                   0.100    young  0.5106\n2     1                     0.5                   0.100    young  0.5148\n3     3                     0.5                   0.100    young  0.4630\n4     1                     0.5                   0.008    young  0.4414",
      "text/html": "<div>\n<style scoped>\n    .dataframe tbody tr th:only-of-type {\n        vertical-align: middle;\n    }\n\n    .dataframe tbody tr th {\n        vertical-align: top;\n    }\n\n    .dataframe thead th {\n        text-align: right;\n    }\n</style>\n<table border=\"1\" class=\"dataframe\">\n  <thead>\n    <tr style=\"text-align: right;\">\n      <th></th>\n      <th>seed</th>\n      <th>protected_attr_percent</th>\n      <th>effective_dataset_size</th>\n      <th>variable</th>\n      <th>value</th>\n    </tr>\n  </thead>\n  <tbody>\n    <tr>\n      <th>0</th>\n      <td>1</td>\n      <td>0.5</td>\n      <td>0.005</td>\n      <td>young</td>\n      <td>0.4362</td>\n    </tr>\n    <tr>\n      <th>1</th>\n      <td>2</td>\n      <td>0.5</td>\n      <td>0.100</td>\n      <td>young</td>\n      <td>0.5106</td>\n    </tr>\n    <tr>\n      <th>2</th>\n      <td>1</td>\n      <td>0.5</td>\n      <td>0.100</td>\n      <td>young</td>\n      <td>0.5148</td>\n    </tr>\n    <tr>\n      <th>3</th>\n      <td>3</td>\n      <td>0.5</td>\n      <td>0.100</td>\n      <td>young</td>\n      <td>0.4630</td>\n    </tr>\n    <tr>\n      <th>4</th>\n      <td>1</td>\n      <td>0.5</td>\n      <td>0.008</td>\n      <td>young</td>\n      <td>0.4414</td>\n    </tr>\n  </tbody>\n</table>\n</div>"
     },
     "execution_count": 18,
     "metadata": {},
     "output_type": "execute_result"
    }
   ],
   "source": [
    "# replace variable names\n",
    "print(df.variable.unique())\n",
    "df.variable = df.variable.str.replace('test/lungOpacity_young_subgroupAUROC','young')\n",
    "df.variable = df.variable.str.replace('test/lungOpacity_old_subgroupAUROC','old')\n",
    "df.head()"
   ],
   "metadata": {
    "collapsed": false,
    "ExecuteTime": {
     "end_time": "2023-09-18T15:11:29.606262036Z",
     "start_time": "2023-09-18T15:11:29.586808961Z"
    }
   },
   "id": "ae1e37cfb80e1dbc"
  },
  {
   "cell_type": "code",
   "execution_count": 19,
   "outputs": [
    {
     "name": "stdout",
     "output_type": "stream",
     "text": [
      "['young' 'old']\n"
     ]
    },
    {
     "data": {
      "text/plain": "    seed  protected_attr_percent  effective_dataset_size variable   value\n20     2                     0.5                       1    young  0.7648\n21     1                     0.5                       1    young  0.7440\n22     5                     0.5                       1    young  0.7366\n23     3                     0.5                       1    young  0.7466\n24     4                     0.5                       1    young  0.7380",
      "text/html": "<div>\n<style scoped>\n    .dataframe tbody tr th:only-of-type {\n        vertical-align: middle;\n    }\n\n    .dataframe tbody tr th {\n        vertical-align: top;\n    }\n\n    .dataframe thead th {\n        text-align: right;\n    }\n</style>\n<table border=\"1\" class=\"dataframe\">\n  <thead>\n    <tr style=\"text-align: right;\">\n      <th></th>\n      <th>seed</th>\n      <th>protected_attr_percent</th>\n      <th>effective_dataset_size</th>\n      <th>variable</th>\n      <th>value</th>\n    </tr>\n  </thead>\n  <tbody>\n    <tr>\n      <th>20</th>\n      <td>2</td>\n      <td>0.5</td>\n      <td>1</td>\n      <td>young</td>\n      <td>0.7648</td>\n    </tr>\n    <tr>\n      <th>21</th>\n      <td>1</td>\n      <td>0.5</td>\n      <td>1</td>\n      <td>young</td>\n      <td>0.7440</td>\n    </tr>\n    <tr>\n      <th>22</th>\n      <td>5</td>\n      <td>0.5</td>\n      <td>1</td>\n      <td>young</td>\n      <td>0.7366</td>\n    </tr>\n    <tr>\n      <th>23</th>\n      <td>3</td>\n      <td>0.5</td>\n      <td>1</td>\n      <td>young</td>\n      <td>0.7466</td>\n    </tr>\n    <tr>\n      <th>24</th>\n      <td>4</td>\n      <td>0.5</td>\n      <td>1</td>\n      <td>young</td>\n      <td>0.7380</td>\n    </tr>\n  </tbody>\n</table>\n</div>"
     },
     "execution_count": 19,
     "metadata": {},
     "output_type": "execute_result"
    }
   ],
   "source": [
    "# load effective_dataset_size 1 \n",
    "df_1 = load_csvs_into_df('../2023-09-02 22:38:35-FAE-rsna-age-bs32-noDP')\n",
    "df_1 = df_1[['seed','test/lungOpacity_young_subgroupAUROC','test/lungOpacity_old_subgroupAUROC','protected_attr_percent']]\n",
    "df_1['effective_dataset_size'] = 1\n",
    "df_1 = pd.melt(df_1, id_vars=['seed','protected_attr_percent','effective_dataset_size'], value_vars=['test/lungOpacity_young_subgroupAUROC','test/lungOpacity_old_subgroupAUROC'])\n",
    "# only select rows where protected_attr_percent is 0.5\n",
    "df_1 = df_1[df_1.protected_attr_percent == 0.5]\n",
    "print(df.variable.unique())\n",
    "df_1.variable = df_1.variable.str.replace('test/lungOpacity_young_subgroupAUROC','young')\n",
    "df_1.variable = df_1.variable.str.replace('test/lungOpacity_old_subgroupAUROC','old')\n",
    "df_1.head()"
   ],
   "metadata": {
    "collapsed": false,
    "ExecuteTime": {
     "end_time": "2023-09-18T15:11:29.925917193Z",
     "start_time": "2023-09-18T15:11:29.603172300Z"
    }
   },
   "id": "269ea63c612123bb"
  },
  {
   "cell_type": "code",
   "execution_count": 20,
   "outputs": [],
   "source": [
    "# concat df and df_1\n",
    "df = pd.concat([df,df_1])"
   ],
   "metadata": {
    "collapsed": false,
    "ExecuteTime": {
     "end_time": "2023-09-18T15:11:29.942394493Z",
     "start_time": "2023-09-18T15:11:29.929054865Z"
    }
   },
   "id": "169b06abe0984140"
  },
  {
   "cell_type": "code",
   "execution_count": 21,
   "outputs": [],
   "source": [
    "# sort list ascending\n",
    "fractions = df.protected_attr_percent.unique()\n",
    "fractions.sort()"
   ],
   "metadata": {
    "collapsed": false,
    "ExecuteTime": {
     "end_time": "2023-09-18T15:11:29.964342533Z",
     "start_time": "2023-09-18T15:11:29.931373535Z"
    }
   },
   "id": "5bbee1fc3d8b7991"
  },
  {
   "cell_type": "code",
   "execution_count": 22,
   "outputs": [],
   "source": [
    "# sort df by effective_dataset_size\n",
    "df = df.sort_values(by=['effective_dataset_size'])"
   ],
   "metadata": {
    "collapsed": false,
    "ExecuteTime": {
     "end_time": "2023-09-18T15:11:29.986239566Z",
     "start_time": "2023-09-18T15:11:29.945057838Z"
    }
   },
   "id": "cf9a448dd5cab225"
  },
  {
   "cell_type": "code",
   "execution_count": 23,
   "outputs": [],
   "source": [
    "sizes = df.effective_dataset_size.unique()"
   ],
   "metadata": {
    "collapsed": false,
    "ExecuteTime": {
     "end_time": "2023-09-18T15:11:30.006558983Z",
     "start_time": "2023-09-18T15:11:29.952546103Z"
    }
   },
   "id": "290d0451ec94c3ae"
  },
  {
   "cell_type": "code",
   "execution_count": 24,
   "outputs": [
    {
     "name": "stdout",
     "output_type": "stream",
     "text": [
      "best_dss 3 0.01\n"
     ]
    },
    {
     "name": "stderr",
     "output_type": "stream",
     "text": [
      "/home/getznerj/miniconda3/envs/thesis_opacus/lib/python3.10/site-packages/seaborn/_oldcore.py:1498: FutureWarning: is_categorical_dtype is deprecated and will be removed in a future version. Use isinstance(dtype, CategoricalDtype) instead\n",
      "  if pd.api.types.is_categorical_dtype(vector):\n",
      "/home/getznerj/miniconda3/envs/thesis_opacus/lib/python3.10/site-packages/seaborn/_oldcore.py:1498: FutureWarning: is_categorical_dtype is deprecated and will be removed in a future version. Use isinstance(dtype, CategoricalDtype) instead\n",
      "  if pd.api.types.is_categorical_dtype(vector):\n",
      "/home/getznerj/miniconda3/envs/thesis_opacus/lib/python3.10/site-packages/seaborn/_oldcore.py:1498: FutureWarning: is_categorical_dtype is deprecated and will be removed in a future version. Use isinstance(dtype, CategoricalDtype) instead\n",
      "  if pd.api.types.is_categorical_dtype(vector):\n",
      "/home/getznerj/miniconda3/envs/thesis_opacus/lib/python3.10/site-packages/seaborn/_oldcore.py:1498: FutureWarning: is_categorical_dtype is deprecated and will be removed in a future version. Use isinstance(dtype, CategoricalDtype) instead\n",
      "  if pd.api.types.is_categorical_dtype(vector):\n"
     ]
    },
    {
     "data": {
      "text/plain": "<Figure size 1000x500 with 1 Axes>",
      "image/png": "[encoded data removed]"
     },
     "metadata": {},
     "output_type": "display_data"
    }
   ],
   "source": [
    "for f in fractions:\n",
    "    plt.figure(figsize=(10,5))\n",
    "    sub = df[df.protected_attr_percent==f]\n",
    "    # group by weight\n",
    "    sub_grouped = sub.groupby(['effective_dataset_size','variable']).mean().reset_index()\n",
    "    # over all weights get weight with minimum dist between young and old subgroup AUROC\n",
    "    min_dist = np.inf\n",
    "    best_dss = None\n",
    "    best_dss_max = None\n",
    "    best_dss_min = None\n",
    "    for idx, w in enumerate(sizes):\n",
    "        sub_grouped_w = sub_grouped[sub_grouped.effective_dataset_size==w]\n",
    "        # compute dist between max and min of value column\n",
    "        dist = sub_grouped_w.value.max() - sub_grouped_w.value.min()\n",
    "        if dist < min_dist:\n",
    "            min_dist = dist\n",
    "            best_dss = idx\n",
    "            best_dss_max = sub_grouped_w.value.max()\n",
    "            best_dss_min = sub_grouped_w.value.min()\n",
    "    print(\"best_dss\", best_dss, sizes[best_dss])\n",
    "    g = sns.barplot(data=sub, x=\"effective_dataset_size\", y=\"value\", hue=\"variable\")\n",
    "    # create vertical line at best weight\n",
    "    #plt.plot([best_dss, best_dss], [best_dss_min, best_dss_max], color='red', linestyle='-', linewidth=3)\n",
    "    # add text at same location\n",
    "    custom_colors = [\"#5975A4\"]*7 + [\"#79a0e0\"] + [\"#CC8963\"]*7 + [\"#e1a07a\"]\n",
    "    for i, bar in enumerate(g.patches):\n",
    "        bar.set_color(custom_colors[i])\n",
    "    #plt.text(best_dss * 1, 0.8, f'min. diff.', fontsize=12, color=\"red\")\n",
    "    plt.title(f'fraction of \"old\" subgroup in training data: {f*100:.0f}%')\n",
    "    # set axis labels\n",
    "    plt.xlabel('effective_dataset_size')\n",
    "    plt.ylabel('subgroup AUROC')\n",
    "    plt.legend(loc=\"lower right\")\n",
    "    plt.show()"
   ],
   "metadata": {
    "collapsed": false,
    "ExecuteTime": {
     "end_time": "2023-09-18T15:11:30.504476015Z",
     "start_time": "2023-09-18T15:11:29.958450295Z"
    }
   },
   "id": "d3f067c29c81da19"
  }
 ],
 "metadata": {
  "kernelspec": {
   "display_name": "Python 3",
   "language": "python",
   "name": "python3"
  },
  "language_info": {
   "codemirror_mode": {
    "name": "ipython",
    "version": 2
   },
   "file_extension": ".py",
   "mimetype": "text/x-python",
   "name": "python",
   "nbconvert_exporter": "python",
   "pygments_lexer": "ipython2",
   "version": "2.7.6"
  }
 },
 "nbformat": 4,
 "nbformat_minor": 5
}
