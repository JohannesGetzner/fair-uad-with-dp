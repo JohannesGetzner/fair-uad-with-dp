{
 "cells": [
  {
   "cell_type": "code",
   "execution_count": 2,
   "id": "initial_id",
   "metadata": {
    "collapsed": true,
    "ExecuteTime": {
     "end_time": "2023-11-04T14:01:44.066341065Z",
     "start_time": "2023-11-04T14:01:43.933214588Z"
    }
   },
   "outputs": [],
   "source": [
    "import matplotlib.pyplot as plt\n",
    "import seaborn as sns\n",
    "sns.set(style=\"whitegrid\", context=\"notebook\",font_scale=1.2)\n",
    "import pandas as pd\n",
    "# disable setting with copy warning\n",
    "pd.options.mode.chained_assignment = None\n",
    "import numpy as np\n",
    "import os\n",
    "import warnings\n",
    "warnings.filterwarnings(\"ignore\", category=FutureWarning)\n",
    "import matplotlib.pyplot as plt\n",
    "import pydicom\n",
    "import json"
   ]
  },
  {
   "cell_type": "code",
   "execution_count": 3,
   "outputs": [],
   "source": [
    "PV = \"age\"\n",
    "if PV == \"age\":\n",
    "    groups = [\"old\", \"young\"]\n",
    "else:\n",
    "    groups = [\"male\", \"female\"]"
   ],
   "metadata": {
    "collapsed": false,
    "ExecuteTime": {
     "end_time": "2023-11-04T14:01:44.078304436Z",
     "start_time": "2023-11-04T14:01:44.068284558Z"
    }
   },
   "id": "e4e70751e03f9bf8"
  },
  {
   "cell_type": "code",
   "execution_count": 4,
   "outputs": [],
   "source": [
    "def load_csvs_into_df(dir):\n",
    "    dirs = [os.path.join(dir,d) for d in os.listdir(dir) if os.path.isdir(os.path.join(dir,d))]\n",
    "    dfs = []\n",
    "    sample_dfs = []\n",
    "    for d in dirs:\n",
    "        seeds = [f for f in os.listdir(os.path.join('./',d)) if f.startswith('seed')]\n",
    "        # get last number from directory name\n",
    "        train_loader_num = int(d.split('_')[-1])\n",
    "        for seed in seeds:\n",
    "            results = [f for f in os.listdir(os.path.join(d,seed)) if f.startswith('test_results')][0]\n",
    "            sample_info = [f for f in os.listdir(os.path.join(d,seed)) if f.startswith('train_loader')][0]\n",
    "            results_df = pd.read_csv(os.path.join(d, seed, results))\n",
    "            sample_df = pd.read_csv(os.path.join(d, seed, sample_info))\n",
    "            results_df[\"train_loader_num\"] = train_loader_num\n",
    "            sample_df[\"train_loader_num\"] = train_loader_num\n",
    "            dfs.append(results_df)\n",
    "            sample_dfs.append(sample_df)\n",
    "    return pd.concat(dfs, ignore_index=True), pd.concat(sample_dfs, ignore_index=True)"
   ],
   "metadata": {
    "collapsed": false,
    "ExecuteTime": {
     "end_time": "2023-11-04T14:01:44.093778425Z",
     "start_time": "2023-11-04T14:01:44.076180531Z"
    }
   },
   "id": "682179823104f147"
  },
  {
   "cell_type": "code",
   "execution_count": 5,
   "outputs": [],
   "source": [
    "def get_subsets(df, df_samples, model:str, dataset:str, score_variables):\n",
    "    df = df[score_variables+[\"train_loader_num\", \"model\"]]\n",
    "    # join df_1 with df_samples_1\n",
    "    df = df.merge(df_samples, on=\"train_loader_num\")\n",
    "    subset_by_score_var = {}\n",
    "    for score_var in score_vars:\n",
    "        df.sort_values(by=score_var, ascending=False, inplace=True)\n",
    "        df = df.iloc[0:500]\n",
    "        subset_by_score_var[score_var] = {\n",
    "            \"idx_map\": list(df[\"index_mapping\"]),\n",
    "            \"labels\": list(df[\"labels\"]),\n",
    "            \"meta\": list(df[\"meta\"]),\n",
    "            \"filenames\": list(df[\"filenames\"]),\n",
    "            \"scores\": list(df[score_var]),\n",
    "        }\n",
    "    return subset_by_score_var"
   ],
   "metadata": {
    "collapsed": false,
    "ExecuteTime": {
     "end_time": "2023-11-04T14:01:44.117537799Z",
     "start_time": "2023-11-04T14:01:44.088669590Z"
    }
   },
   "id": "e77a0664cb59015"
  },
  {
   "cell_type": "code",
   "execution_count": 6,
   "outputs": [],
   "source": [
    "subsets = {}"
   ],
   "metadata": {
    "collapsed": false,
    "ExecuteTime": {
     "end_time": "2023-11-04T14:01:44.118168780Z",
     "start_time": "2023-11-04T14:01:44.097517595Z"
    }
   },
   "id": "3993a4f9c0a80c3a"
  },
  {
   "cell_type": "markdown",
   "source": [
    "# RSNA Balanced"
   ],
   "metadata": {
    "collapsed": false
   },
   "id": "a84efe5dc90370c7"
  },
  {
   "cell_type": "code",
   "execution_count": 7,
   "outputs": [],
   "source": [
    "current_file_dir = \"src/logs_persist/dataset_distillation/distillation_paper\"\n",
    "path_to_logs = os.path.join(current_file_dir, \"2023-11-03 14:14:39-FAE-rsna-balanced-bs32-balanced-dataset-distillation-fullmodel-nsamples1-noDP\")"
   ],
   "metadata": {
    "collapsed": false,
    "ExecuteTime": {
     "end_time": "2023-11-04T14:01:47.154009730Z",
     "start_time": "2023-11-04T14:01:47.145458975Z"
    }
   },
   "id": "452760e8057d71af"
  },
  {
   "cell_type": "code",
   "execution_count": 8,
   "outputs": [],
   "source": [
    "score_vars = [\"test/AUROC\", \"test/old_subgroupAUROC\",\"test/young_subgroupAUROC\",\"test/male_subgroupAUROC\",\"test/female_subgroupAUROC\"]"
   ],
   "metadata": {
    "collapsed": false,
    "ExecuteTime": {
     "end_time": "2023-11-04T14:01:48.808832966Z",
     "start_time": "2023-11-04T14:01:48.801970221Z"
    }
   },
   "id": "d6ed6cd5e4143f3f"
  },
  {
   "cell_type": "code",
   "execution_count": 10,
   "outputs": [],
   "source": [
    "df_fae, df_samples_fae= load_csvs_into_df(path_to_logs)\n",
    "df_fae[\"model\"] = \"FAE\""
   ],
   "metadata": {
    "collapsed": false,
    "ExecuteTime": {
     "end_time": "2023-11-04T14:04:24.407789060Z",
     "start_time": "2023-11-04T14:03:45.137020665Z"
    }
   },
   "id": "b8889f4bd2eeabc4"
  },
  {
   "cell_type": "code",
   "execution_count": 11,
   "outputs": [],
   "source": [
    "subsets[\"rsna\"] = get_subsets(df_fae, df_samples_fae, \"FAE\", \"RSNA\", score_vars)"
   ],
   "metadata": {
    "collapsed": false,
    "ExecuteTime": {
     "end_time": "2023-11-04T14:05:25.801500244Z",
     "start_time": "2023-11-04T14:05:25.757915948Z"
    }
   },
   "id": "e8ddf4928a6df257"
  },
  {
   "cell_type": "markdown",
   "source": [
    "## Save"
   ],
   "metadata": {
    "collapsed": false
   },
   "id": "865d994443db6279"
  },
  {
   "cell_type": "code",
   "execution_count": 12,
   "outputs": [],
   "source": [
    "with open(f\"src/subsets.json\", \"w\") as f:\n",
    "    json.dump(subsets, f)"
   ],
   "metadata": {
    "collapsed": false,
    "ExecuteTime": {
     "end_time": "2023-11-04T14:06:57.245130074Z",
     "start_time": "2023-11-04T14:06:57.212781480Z"
    }
   },
   "id": "7ecdda31d1a6ca9f"
  }
 ],
 "metadata": {
  "kernelspec": {
   "display_name": "Python 3",
   "language": "python",
   "name": "python3"
  },
  "language_info": {
   "codemirror_mode": {
    "name": "ipython",
    "version": 2
   },
   "file_extension": ".py",
   "mimetype": "text/x-python",
   "name": "python",
   "nbconvert_exporter": "python",
   "pygments_lexer": "ipython2",
   "version": "2.7.6"
  }
 },
 "nbformat": 4,
 "nbformat_minor": 5
}
