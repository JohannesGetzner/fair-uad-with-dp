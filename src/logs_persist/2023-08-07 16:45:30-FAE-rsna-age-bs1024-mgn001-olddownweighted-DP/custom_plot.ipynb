{
 "cells": [
  {
   "cell_type": "code",
   "execution_count": 9,
   "id": "initial_id",
   "metadata": {
    "collapsed": true,
    "ExecuteTime": {
     "end_time": "2023-08-28T09:11:29.396578092Z",
     "start_time": "2023-08-28T09:11:29.357687177Z"
    }
   },
   "outputs": [],
   "source": [
    "import seaborn as sns\n",
    "import matplotlib.pyplot as plt\n",
    "import pandas as pd\n",
    "import numpy as np\n",
    "import os"
   ]
  },
  {
   "cell_type": "code",
   "execution_count": 10,
   "outputs": [],
   "source": [
    "def load_csvs_into_df(dir):\n",
    "    dirs = [os.path.join(dir,d) for d in os.listdir(dir) if os.path.isdir(os.path.join(dir,d))]\n",
    "    dfs = []\n",
    "    for d in dirs:\n",
    "        seeds = [f for f in os.listdir(os.path.join('./',d)) if f.startswith('seed')]\n",
    "        for seed in seeds:\n",
    "            results = [f for f in os.listdir(os.path.join(d,seed)) if f.startswith('test_results')][0]\n",
    "            results_df = pd.read_csv(os.path.join(d, seed, results))\n",
    "            dfs.append(results_df)\n",
    "    df = pd.concat(dfs)\n",
    "    return df"
   ],
   "metadata": {
    "collapsed": false,
    "ExecuteTime": {
     "end_time": "2023-08-28T09:11:29.445662756Z",
     "start_time": "2023-08-28T09:11:29.402593905Z"
    }
   },
   "id": "70bea35df7066064"
  },
  {
   "cell_type": "code",
   "execution_count": 11,
   "outputs": [],
   "source": [
    "df = load_csvs_into_df('./')"
   ],
   "metadata": {
    "collapsed": false,
    "ExecuteTime": {
     "end_time": "2023-08-28T09:11:29.446100078Z",
     "start_time": "2023-08-28T09:11:29.402830761Z"
    }
   },
   "id": "8930bde5fa23033f"
  },
  {
   "cell_type": "code",
   "execution_count": 12,
   "outputs": [],
   "source": [
    "df = df[[\"test/lungOpacity_young_subgroupAUROC\",\"test/lungOpacity_old_subgroupAUROC\",\"job_type_mod\"]]\n",
    "# extract number at the end of job_type_mod\n",
    "df['job_type_mod'] = df.job_type_mod.str.extract('(\\d+)')\n",
    "# insert '.' after first character in job_type_mod\n",
    "df['job_type_mod'] = df.job_type_mod.str[:1] + '.' + df.job_type_mod.str[1:]\n",
    "# cast job_type_mod to float\n",
    "df['job_type_mod'] = df['job_type_mod'].astype(float)"
   ],
   "metadata": {
    "collapsed": false,
    "ExecuteTime": {
     "end_time": "2023-08-28T09:11:29.469067982Z",
     "start_time": "2023-08-28T09:11:29.419309226Z"
    }
   },
   "id": "f26a8f75c0719155"
  },
  {
   "cell_type": "code",
   "execution_count": 13,
   "outputs": [],
   "source": [
    "# melt columns to rows\n",
    "df = pd.melt(df.reset_index(), id_vars=['job_type_mod'], value_vars=['test/lungOpacity_young_subgroupAUROC','test/lungOpacity_old_subgroupAUROC'])"
   ],
   "metadata": {
    "collapsed": false,
    "ExecuteTime": {
     "end_time": "2023-08-28T09:11:29.469350325Z",
     "start_time": "2023-08-28T09:11:29.462847823Z"
    }
   },
   "id": "9825fa17aead3ec7"
  },
  {
   "cell_type": "code",
   "execution_count": 14,
   "outputs": [],
   "source": [
    "df.variable = df.variable.str.replace('test/lungOpacity_young_subgroupAUROC','young')\n",
    "df.variable = df.variable.str.replace('test/lungOpacity_old_subgroupAUROC','old')"
   ],
   "metadata": {
    "collapsed": false,
    "ExecuteTime": {
     "end_time": "2023-08-28T09:11:29.469546528Z",
     "start_time": "2023-08-28T09:11:29.463070534Z"
    }
   },
   "id": "ee143ac62ca67a61"
  },
  {
   "cell_type": "code",
   "execution_count": 15,
   "outputs": [
    {
     "data": {
      "text/plain": "   job_type_mod variable   value\n0         0.700    young  0.6112\n1         0.900    young  0.6112\n2         0.300    young  0.6112\n3         0.500    young  0.6116\n4         0.001    young  0.6098",
      "text/html": "<div>\n<style scoped>\n    .dataframe tbody tr th:only-of-type {\n        vertical-align: middle;\n    }\n\n    .dataframe tbody tr th {\n        vertical-align: top;\n    }\n\n    .dataframe thead th {\n        text-align: right;\n    }\n</style>\n<table border=\"1\" class=\"dataframe\">\n  <thead>\n    <tr style=\"text-align: right;\">\n      <th></th>\n      <th>job_type_mod</th>\n      <th>variable</th>\n      <th>value</th>\n    </tr>\n  </thead>\n  <tbody>\n    <tr>\n      <th>0</th>\n      <td>0.700</td>\n      <td>young</td>\n      <td>0.6112</td>\n    </tr>\n    <tr>\n      <th>1</th>\n      <td>0.900</td>\n      <td>young</td>\n      <td>0.6112</td>\n    </tr>\n    <tr>\n      <th>2</th>\n      <td>0.300</td>\n      <td>young</td>\n      <td>0.6112</td>\n    </tr>\n    <tr>\n      <th>3</th>\n      <td>0.500</td>\n      <td>young</td>\n      <td>0.6116</td>\n    </tr>\n    <tr>\n      <th>4</th>\n      <td>0.001</td>\n      <td>young</td>\n      <td>0.6098</td>\n    </tr>\n  </tbody>\n</table>\n</div>"
     },
     "execution_count": 15,
     "metadata": {},
     "output_type": "execute_result"
    }
   ],
   "source": [
    "df.head()"
   ],
   "metadata": {
    "collapsed": false,
    "ExecuteTime": {
     "end_time": "2023-08-28T09:11:29.470479416Z",
     "start_time": "2023-08-28T09:11:29.463254726Z"
    }
   },
   "id": "50f19869a4441445"
  },
  {
   "cell_type": "code",
   "execution_count": 16,
   "outputs": [
    {
     "data": {
      "text/plain": "    job_type_mod variable   value\n2              1    young  0.6044\n3              1    young  0.6006\n12             1      old  0.8070\n13             1      old  0.8020",
      "text/html": "<div>\n<style scoped>\n    .dataframe tbody tr th:only-of-type {\n        vertical-align: middle;\n    }\n\n    .dataframe tbody tr th {\n        vertical-align: top;\n    }\n\n    .dataframe thead th {\n        text-align: right;\n    }\n</style>\n<table border=\"1\" class=\"dataframe\">\n  <thead>\n    <tr style=\"text-align: right;\">\n      <th></th>\n      <th>job_type_mod</th>\n      <th>variable</th>\n      <th>value</th>\n    </tr>\n  </thead>\n  <tbody>\n    <tr>\n      <th>2</th>\n      <td>1</td>\n      <td>young</td>\n      <td>0.6044</td>\n    </tr>\n    <tr>\n      <th>3</th>\n      <td>1</td>\n      <td>young</td>\n      <td>0.6006</td>\n    </tr>\n    <tr>\n      <th>12</th>\n      <td>1</td>\n      <td>old</td>\n      <td>0.8070</td>\n    </tr>\n    <tr>\n      <th>13</th>\n      <td>1</td>\n      <td>old</td>\n      <td>0.8020</td>\n    </tr>\n  </tbody>\n</table>\n</div>"
     },
     "execution_count": 16,
     "metadata": {},
     "output_type": "execute_result"
    }
   ],
   "source": [
    "# load weight 1 data-sets\n",
    "df_1 = load_csvs_into_df('../2023-07-13 09:20:21-FAE-rsna-age-bs1024-mgn001-DP')\n",
    "df_1 = df_1[['test/lungOpacity_young_subgroupAUROC','test/lungOpacity_old_subgroupAUROC','protected_attr_percent']]\n",
    "df_1['job_type_mod'] = 1\n",
    "df_1 = pd.melt(df_1, id_vars=['protected_attr_percent','job_type_mod'], value_vars=['test/lungOpacity_young_subgroupAUROC','test/lungOpacity_old_subgroupAUROC'])\n",
    "# only select rows where protected_attr_percent is 0.25, 0.5, 0.75\n",
    "df_1 = df_1[df_1.protected_attr_percent.isin([0.75])]\n",
    "df_1.drop(columns=['protected_attr_percent'], inplace=True)\n",
    "df_1.variable = df_1.variable.str.replace('test/lungOpacity_young_subgroupAUROC','young')\n",
    "df_1.variable = df_1.variable.str.replace('test/lungOpacity_old_subgroupAUROC','old')\n",
    "df_1.head()"
   ],
   "metadata": {
    "collapsed": false,
    "ExecuteTime": {
     "end_time": "2023-08-28T09:11:29.589977858Z",
     "start_time": "2023-08-28T09:11:29.463465337Z"
    }
   },
   "id": "5f0f92c5fd133299"
  },
  {
   "cell_type": "code",
   "execution_count": 17,
   "outputs": [],
   "source": [
    "# concat df and df_1\n",
    "df = pd.concat([df,df_1])"
   ],
   "metadata": {
    "collapsed": false,
    "ExecuteTime": {
     "end_time": "2023-08-28T09:11:29.590442027Z",
     "start_time": "2023-08-28T09:11:29.520477604Z"
    }
   },
   "id": "6cf89ab4e2d153f5"
  },
  {
   "cell_type": "markdown",
   "source": [
    "22°, 51%, 59% -> cc8861\n",
    "218°, 30%, 50% -> 5975A4"
   ],
   "metadata": {
    "collapsed": false
   },
   "id": "148de3109653e97a"
  },
  {
   "cell_type": "code",
   "execution_count": 18,
   "outputs": [
    {
     "data": {
      "text/plain": "[Text(0, 0.5, 'subgroup AUROC')]"
     },
     "execution_count": 18,
     "metadata": {},
     "output_type": "execute_result"
    },
    {
     "data": {
      "text/plain": "<Figure size 1000x500 with 1 Axes>",
      "image/png": "[encoded data removed]"
     },
     "metadata": {},
     "output_type": "display_data"
    }
   ],
   "source": [
    "plt.figure(figsize=(10,5))\n",
    "sns.set(font_scale=1.2, style=\"whitegrid\")\n",
    "g = sns.barplot(x='job_type_mod', y='value', hue='variable', data=df)\n",
    "custom_colors = [\"#5975A4\"]*8 + [\"#79a0e0\"] + [\"#CC8963\"]*8 + [\"#e1a07a\"]\n",
    "for i, bar in enumerate(g.patches):\n",
    "    bar.set_color(custom_colors[i])\n",
    "# set y axis limit\n",
    "g.set(ylim=(0.1, 1))\n",
    "g.set(xlabel='loss weight')\n",
    "g.set(ylabel='subgroup AUROC')\n",
    "# put legend outside of plot\n",
    "# plt.legend(bbox_to_anchor=(1.01, 1), loc=2, borderaxespad=0.)"
   ],
   "metadata": {
    "collapsed": false,
    "ExecuteTime": {
     "end_time": "2023-08-28T09:11:29.959582763Z",
     "start_time": "2023-08-28T09:11:29.524701214Z"
    }
   },
   "id": "3065e859061be72b"
  }
 ],
 "metadata": {
  "kernelspec": {
   "display_name": "Python 3",
   "language": "python",
   "name": "python3"
  },
  "language_info": {
   "codemirror_mode": {
    "name": "ipython",
    "version": 2
   },
   "file_extension": ".py",
   "mimetype": "text/x-python",
   "name": "python",
   "nbconvert_exporter": "python",
   "pygments_lexer": "ipython2",
   "version": "2.7.6"
  }
 },
 "nbformat": 4,
 "nbformat_minor": 5
}
