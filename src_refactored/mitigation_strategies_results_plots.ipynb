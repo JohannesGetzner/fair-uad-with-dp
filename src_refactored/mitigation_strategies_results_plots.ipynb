{
 "cells": [
  {
   "cell_type": "code",
   "execution_count": null,
   "id": "initial_id",
   "metadata": {
    "collapsed": true
   },
   "outputs": [],
   "source": [
    "import os\n",
    "import warnings\n",
    "warnings.simplefilter(action='ignore', category=FutureWarning)\n",
    "import numpy as np\n",
    "import pandas as pd\n",
    "pd.options.mode.chained_assignment = None\n",
    "import seaborn as sns\n",
    "import matplotlib.pyplot as plt\n",
    "from typing import List\n",
    "from scipy.stats import linregress\n",
    "from matplotlib.patches import Rectangle\n",
    "from plot import load_logs, plot_runs, add_values_from_normal_runs, PV_MAP\n",
    "# refresh files\n",
    "\n",
    "%load_ext autoreload\n",
    "%autoreload 2"
   ]
  },
  {
   "cell_type": "code",
   "execution_count": null,
   "outputs": [],
   "source": [
    "BASE_DIR = \"/home/getznerj/Documents/Thesis/Thesis Final Experiments\""
   ],
   "metadata": {
    "collapsed": false
   },
   "id": "bfa1a1fec10d6dcd"
  },
  {
   "cell_type": "code",
   "execution_count": null,
   "outputs": [],
   "source": [
    "def plot_data(\n",
    "        data,\n",
    "        log_dir,\n",
    "        secondary_color_at=None,\n",
    "        secondary_color_legend_text=\"\",\n",
    "        override_insignificance=False,\n",
    "        legend_outside=False\n",
    "):\n",
    "    # split data into two dicts, one where keys contain nonDP and the others\n",
    "    data_nonDP = {key: dataset for key, dataset in data.items() if \"noDP\" in key}\n",
    "    data_DP = {key: dataset for key, dataset in data.items() if \"noDP\" not in key}\n",
    "    # order dicts by key\n",
    "    data_nonDP = {k: data_nonDP[k] for k in sorted(data_nonDP)}\n",
    "    data_DP = {k: data_DP[k] for k in sorted(data_DP)}\n",
    "    for data_dict in [data_nonDP,data_DP]:\n",
    "        for idx, (df_name, df) in enumerate(data_dict.items()):\n",
    "            fig, axes = plt.subplots(1, 1, figsize=(5.78853, 3), sharey=\"row\", sharex=\"col\")\n",
    "            fontSize = 11\n",
    "            rc={\"figure.dpi\": 300, 'savefig.dpi': 300, 'axes.labelsize': fontSize, 'axes.titlesize': fontSize, 'font.size': fontSize, 'legend.fontsize': fontSize*0.6}\n",
    "            plt.rcParams.update(rc)\n",
    "            pv = \"age\" if \"age\" in df_name else \"sex\"\n",
    "            metrics = [col for col in df.columns if \"subgroupAUROC\" in col]\n",
    "            df = df[[\"protected_attr\", \"protected_attr_percent\", \"seed\"] + metrics]\n",
    "            df = df.rename(columns={metric: PV_MAP[pv][1] if PV_MAP[pv][1] in metric else PV_MAP[pv][0] for metric in metrics})\n",
    "            protected_attrs_to_plot = [np.round(k,2) for k in np.arange(0, 1.1, 0.1)] + [0.25,0.75]\n",
    "            df = df.loc[df[\"protected_attr_percent\"].isin(protected_attrs_to_plot)]\n",
    "            metrics = [PV_MAP[pv][1] if PV_MAP[pv][1] in metric else PV_MAP[pv][0] for metric in metrics]\n",
    "            g = plot_runs(df, metrics, pv, secondary_color_at=secondary_color_at, secondary_color_legend_text=secondary_color_legend_text, override_insignificance=override_insignificance, ax=axes, font_size=fontSize, legend_outside=legend_outside)\n",
    "            # remove x label if idx == 0\n",
    "            plt.tight_layout()\n",
    "            plt.show()\n",
    "            fig.savefig(f\"../plots/{log_dir}/{pv}_{'DP' if not 'noDP' in df_name else 'no-DP'}.png\", bbox_inches=\"tight\")"
   ],
   "metadata": {
    "collapsed": false
   },
   "id": "49bd10107f930dd"
  },
  {
   "cell_type": "code",
   "execution_count": null,
   "outputs": [],
   "source": [
    "def compute_performance_gaps(data):\n",
    "    for df_name, df in data.items():\n",
    "        metrics = [col for col in df.columns if \"subgroupAUROC\" in col]\n",
    "        pv = \"age\" if \"age\" in df_name else \"sex\"\n",
    "        dp = False if \"noDP\" in df_name else True\n",
    "        df_temp = df[[\"protected_attr\", \"protected_attr_percent\"] + [col for col in df.columns if \"subgroupAUROC\" in col]]\n",
    "        # compute mean performance at each protected attribute percentage\n",
    "        df_temp = df_temp.groupby([\"protected_attr\",\"protected_attr_percent\"]).mean().reset_index()\n",
    "        df_temp = df_temp.rename(columns={metric: PV_MAP[pv][1] if PV_MAP[pv][1] in metric else PV_MAP[pv][0] for metric in metrics})\n",
    "        df_temp[\"performance_gap\"] = abs(df_temp[PV_MAP[pv][1]] - df_temp[PV_MAP[pv][0]])*100\n",
    "        # print(f\"{'DP' if dp else 'No-DP'}: Mean performance gap for {pv}: {df_temp['performance_gap'].mean()}\")\n",
    "        print(f\"{'DP' if dp else 'No-DP'} with {pv}:\")\n",
    "        print(\"worst case performance gap: \", df_temp[\"performance_gap\"].max())\n",
    "        print(\"mean performance gap: \", df_temp[\"performance_gap\"].mean())\n"
   ],
   "metadata": {
    "collapsed": false
   },
   "id": "2414eea307928df5"
  },
  {
   "cell_type": "markdown",
   "source": [
    "# Baseline"
   ],
   "metadata": {
    "collapsed": false
   },
   "id": "7668185e1bf2c97f"
  },
  {
   "cell_type": "code",
   "execution_count": null,
   "outputs": [],
   "source": [
    "log_dir = os.path.join(BASE_DIR, \"baseline\")\n",
    "data = load_logs(log_dir = log_dir)"
   ],
   "metadata": {
    "collapsed": false
   },
   "id": "ed001f9322259e2c"
  },
  {
   "cell_type": "code",
   "execution_count": null,
   "outputs": [],
   "source": [
    "plot_data(data, \"baseline\")"
   ],
   "metadata": {
    "collapsed": false
   },
   "id": "70e0af70d3f68342"
  },
  {
   "cell_type": "code",
   "execution_count": null,
   "outputs": [],
   "source": [
    "compute_performance_gaps(data)"
   ],
   "metadata": {
    "collapsed": false
   },
   "id": "d8bc246015a1c02c"
  },
  {
   "cell_type": "markdown",
   "source": [
    "# Up-Sampling"
   ],
   "metadata": {
    "collapsed": false
   },
   "id": "340a85bdff877270"
  },
  {
   "cell_type": "code",
   "execution_count": null,
   "outputs": [],
   "source": [
    "log_dir = os.path.join(BASE_DIR, \"upsampling\")\n",
    "data = load_logs(log_dir = log_dir)\n",
    "data = add_values_from_normal_runs(BASE_DIR, data, 0.5)"
   ],
   "metadata": {
    "collapsed": false
   },
   "id": "17695bfb85b36450"
  },
  {
   "cell_type": "code",
   "execution_count": null,
   "outputs": [],
   "source": [
    "plot_data(data, log_dir=\"upsampling\", secondary_color_at=50, secondary_color_legend_text=\"balanced - no upsampling\")"
   ],
   "metadata": {
    "collapsed": false
   },
   "id": "a94375ccec176f2d"
  },
  {
   "cell_type": "code",
   "execution_count": null,
   "outputs": [],
   "source": [
    "compute_performance_gaps(data)"
   ],
   "metadata": {
    "collapsed": false
   },
   "id": "2a61a193bbe58112"
  },
  {
   "cell_type": "markdown",
   "source": [
    "# Loss Weighting"
   ],
   "metadata": {
    "collapsed": false
   },
   "id": "e28de24ada771d08"
  },
  {
   "cell_type": "code",
   "execution_count": null,
   "outputs": [],
   "source": [
    "log_dir = os.path.join(BASE_DIR, \"loss_weighing\")\n",
    "data = load_logs(log_dir = log_dir)"
   ],
   "metadata": {
    "collapsed": false
   },
   "id": "3d5a5a182876bc81"
  },
  {
   "cell_type": "code",
   "execution_count": null,
   "outputs": [],
   "source": [
    "def get_values_from_normal_runs(data_outer, split):\n",
    "    data_normal = load_logs(log_dir = os.path.join(BASE_DIR, \"baseline\"))\n",
    "    new_rows = {}\n",
    "    for key, df_normal in data_normal.items():\n",
    "        pv = \"age\" if \"age\" in key else \"sex\"\n",
    "        dp = False if \"noDP\" in key else True\n",
    "        corresponding_outer_keys = [k for k in data_outer.keys() if pv in k and ((not dp) == (\"noDP\" in k))]\n",
    "        if corresponding_outer_keys == []:\n",
    "            continue\n",
    "        else:\n",
    "            corresponding_outer_key = corresponding_outer_keys[0]\n",
    "        rows = df_normal[df_normal[\"protected_attr_percent\"] == split]\n",
    "        new_rows[corresponding_outer_key] = rows\n",
    "    return new_rows"
   ],
   "metadata": {
    "collapsed": false
   },
   "id": "698871bef92c5e3f"
  },
  {
   "cell_type": "code",
   "execution_count": null,
   "outputs": [],
   "source": [
    "data_weight_1 = get_values_from_normal_runs(data, 0.5)\n",
    "for key, dataset in data_weight_1.items():\n",
    "    dataset[\"weight\"] = 1\n",
    "    data[key] = pd.concat([data[key], dataset])"
   ],
   "metadata": {
    "collapsed": false
   },
   "id": "8dfe9e8f29dbefab"
  },
  {
   "cell_type": "code",
   "execution_count": null,
   "outputs": [],
   "source": [
    "for key, dataset in data.items():\n",
    "    fig, axes = plt.subplots(1, 1, figsize=(5.78853, 3), sharey=\"row\", sharex=\"col\")\n",
    "    font_size = 11\n",
    "    rc={\"figure.dpi\": 300, 'savefig.dpi': 300, 'axes.labelsize': font_size, 'axes.titlesize': font_size, 'font.size': font_size, 'legend.fontsize': font_size*0.8}\n",
    "    plt.rcParams.update(rc)\n",
    "    dataset = dataset.loc[dataset[\"protected_attr_percent\"] == 0.5]\n",
    "    pv = \"age\" if \"age\" in key else \"sex\"\n",
    "    metrics = [col for col in dataset.columns if \"subgroupAUROC\" in col]\n",
    "    df = dataset[[\"protected_attr\", \"protected_attr_percent\", \"seed\", \"weight\"] + metrics]\n",
    "    # rename metrics\n",
    "    df = df.rename(columns={metric: PV_MAP[pv][1] if PV_MAP[pv][1] in metric else PV_MAP[pv][0] for metric in metrics})\n",
    "    metrics = [PV_MAP[pv][1] if PV_MAP[pv][1] in metric else PV_MAP[pv][0] for metric in metrics]\n",
    "    axes = plot_runs(\n",
    "        df,\n",
    "        metrics,\n",
    "        pv,\n",
    "        secondary_color_at=1.0,\n",
    "        secondary_color_legend_text=\"no weighing\",\n",
    "        x_var=\"weight\",\n",
    "        regress=False,\n",
    "        ax=axes,\n",
    "        font_size=font_size*0.8,\n",
    "        ylim=0,\n",
    "        legend_outside=True\n",
    "    )\n",
    "    fig.savefig(f\"../plots/loss_weighing/{pv}_{'DP' if not 'noDP' in key else 'no-DP'}.png\", bbox_inches=\"tight\")"
   ],
   "metadata": {
    "collapsed": false
   },
   "id": "76d77521bc7f9bfb"
  },
  {
   "cell_type": "markdown",
   "source": [
    "# Fine-Tuning"
   ],
   "metadata": {
    "collapsed": false
   },
   "id": "fa2a82553956cc93"
  },
  {
   "cell_type": "code",
   "execution_count": null,
   "outputs": [],
   "source": [
    "log_dir = os.path.join(BASE_DIR, \"fine_tuning\")\n",
    "data = load_logs(log_dir = log_dir)"
   ],
   "metadata": {
    "collapsed": false
   },
   "id": "6cc527927d2c20c0"
  },
  {
   "cell_type": "code",
   "execution_count": null,
   "outputs": [],
   "source": [
    "plot_data(data,log_dir=\"fine_tuning\", override_insignificance=True, legend_outside=True)"
   ],
   "metadata": {
    "collapsed": false
   },
   "id": "f087d9f6da221971"
  },
  {
   "cell_type": "code",
   "execution_count": null,
   "outputs": [],
   "source": [],
   "metadata": {
    "collapsed": false
   },
   "id": "e08372894fe35a1b"
  }
 ],
 "metadata": {
  "kernelspec": {
   "display_name": "Python 3",
   "language": "python",
   "name": "python3"
  },
  "language_info": {
   "codemirror_mode": {
    "name": "ipython",
    "version": 2
   },
   "file_extension": ".py",
   "mimetype": "text/x-python",
   "name": "python",
   "nbconvert_exporter": "python",
   "pygments_lexer": "ipython2",
   "version": "2.7.6"
  }
 },
 "nbformat": 4,
 "nbformat_minor": 5
}
