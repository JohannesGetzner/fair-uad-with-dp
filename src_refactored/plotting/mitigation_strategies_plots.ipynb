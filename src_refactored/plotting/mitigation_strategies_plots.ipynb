{
 "cells": [
  {
   "cell_type": "code",
   "execution_count": null,
   "id": "initial_id",
   "metadata": {
    "collapsed": true
   },
   "outputs": [],
   "source": [
    "import os\n",
    "import warnings\n",
    "warnings.simplefilter(action='ignore', category=FutureWarning)\n",
    "import numpy as np\n",
    "import pandas as pd\n",
    "pd.options.mode.chained_assignment = None\n",
    "import seaborn as sns\n",
    "sns.set_style(\"whitegrid\")\n",
    "import matplotlib.pyplot as plt\n",
    "from typing import List\n",
    "from scipy.stats import linregress\n",
    "from matplotlib.patches import Rectangle\n",
    "from plot import load_logs, plot_runs, add_values_from_normal_runs, PV_MAP\n",
    "# refresh files\n",
    "\n",
    "%load_ext autoreload\n",
    "%autoreload 2"
   ]
  },
  {
   "cell_type": "code",
   "execution_count": null,
   "outputs": [],
   "source": [
    "TUM_colors =  {\n",
    "    \"TUMBlue\": \"#0065BD\",\n",
    "    \"TUMSecondaryBlue\": \"#005293\",\n",
    "    \"TUMSecondaryBlue2\": \"#003359\",\n",
    "    \"TUMBlack\": \"#000000\",\n",
    "    \"TUMWhite\": \"#FFFFFF\",\n",
    "    \"TUMDarkGray\": \"#333333\",\n",
    "    \"TUMGray\": \"#808080\",\n",
    "    \"TUMLightGray\": \"#CCCCC6\",\n",
    "    \"TUMAccentGray\": \"#DAD7CB\",\n",
    "    \"TUMAccentOrange\": \"#E37222\",\n",
    "    \"TUMAccentGreen\": \"#A2AD00\",\n",
    "    \"TUMAccentLightBlue\": \"#98C6EA\",\n",
    "    \"TUMAccentBlue\": \"#64A0C8\"\n",
    "}"
   ],
   "metadata": {
    "collapsed": false
   },
   "id": "b136a8809ec544d"
  },
  {
   "cell_type": "code",
   "execution_count": null,
   "outputs": [],
   "source": [
    "BASE_DIR = \"/home/getznerj/Documents/Thesis/experiment_logs\""
   ],
   "metadata": {
    "collapsed": false
   },
   "id": "21dc25961f63cd46"
  },
  {
   "cell_type": "code",
   "execution_count": null,
   "outputs": [],
   "source": [
    "log_dir = os.path.join(BASE_DIR, \"loss_weighing\")\n",
    "data = load_logs(log_dir = log_dir, fine_tuning=\"fine_tuning\" in log_dir)"
   ],
   "metadata": {
    "collapsed": false
   },
   "id": "1d6ae33ad9966bc2"
  },
  {
   "cell_type": "code",
   "execution_count": null,
   "outputs": [],
   "source": [
    "age_no_dp_key = [key for key in data.keys() if \"age\" in key and \"noDP\" in key][0]\n",
    "age_dp_key = [key for key in data.keys() if \"age\" in key and not \"noDP\" in key][0]\n",
    "sex_no_dp_key = [key for key in data.keys() if \"sex\" in key and \"noDP\" in key][0]\n",
    "sex_dp_key = [key for key in data.keys() if \"sex\" in key and not \"noDP\" in key][0]"
   ],
   "metadata": {
    "collapsed": false
   },
   "id": "5472c45225228423"
  },
  {
   "cell_type": "code",
   "execution_count": null,
   "outputs": [],
   "source": [
    "data_noDP_age = data[age_no_dp_key]\n",
    "data_noDP_sex = data[sex_no_dp_key]\n",
    "data_DP_age = data[age_dp_key]\n",
    "data_DP_sex = data[sex_dp_key]"
   ],
   "metadata": {
    "collapsed": false
   },
   "id": "5b3f1cccc52bbf04"
  },
  {
   "cell_type": "code",
   "execution_count": null,
   "outputs": [],
   "source": [
    "metrics_age = [col for col in data_noDP_age.columns if \"subgroup\" in col] \n",
    "metrics_sex = [col for col in data_noDP_sex.columns if \"subgroup\" in col]"
   ],
   "metadata": {
    "collapsed": false
   },
   "id": "7e47ac76a0a93716"
  },
  {
   "cell_type": "code",
   "execution_count": null,
   "outputs": [],
   "source": [
    "data_noDP_age = data_noDP_age.loc[data_noDP_age.weight == 0.0001]\n",
    "data_DP_age = data_DP_age.loc[data_DP_age.weight == 0.0001]\n",
    "data_noDP_sex = data_noDP_sex.loc[data_noDP_sex.weight == 0.0001]\n",
    "data_DP_sex = data_DP_sex.loc[data_DP_sex.weight == 0.0001]"
   ],
   "metadata": {
    "collapsed": false
   },
   "id": "1620fca86474804f"
  },
  {
   "cell_type": "code",
   "execution_count": null,
   "outputs": [],
   "source": [
    "data_noDP_age = data_noDP_age[[\"protected_attr\", \"protected_attr_percent\"] + metrics_age]\n",
    "data_noDP_age = data_noDP_age.rename(columns={metric: PV_MAP[\"age\"][1] if PV_MAP[\"age\"][1] in metric else PV_MAP[\"age\"][0] for metric in metrics_age})\n",
    "data_noDP_sex = data_noDP_sex[[\"protected_attr\", \"protected_attr_percent\"] + metrics_sex]\n",
    "data_noDP_sex = data_noDP_sex.rename(columns={metric: PV_MAP[\"sex\"][1] if PV_MAP[\"sex\"][1] in metric else PV_MAP[\"sex\"][0] for metric in metrics_sex})\n",
    "\n",
    "data_DP_age = data_DP_age[[\"protected_attr\", \"protected_attr_percent\"] + metrics_age]\n",
    "data_DP_age = data_DP_age.rename(columns={metric: PV_MAP[\"age\"][1] if PV_MAP[\"age\"][1] in metric else PV_MAP[\"age\"][0] for metric in metrics_age})\n",
    "data_DP_sex = data_DP_sex[[\"protected_attr\", \"protected_attr_percent\"] + metrics_sex]\n",
    "data_DP_sex = data_DP_sex.rename(columns={metric: PV_MAP[\"sex\"][1] if PV_MAP[\"sex\"][1] in metric else PV_MAP[\"sex\"][0] for metric in metrics_sex})"
   ],
   "metadata": {
    "collapsed": false
   },
   "id": "e4a19a8a29719da6"
  },
  {
   "cell_type": "code",
   "execution_count": null,
   "outputs": [],
   "source": [
    "id_vars = [\"protected_attr\", \"protected_attr_percent\"]\n",
    "data_noDP_age_melted = data_noDP_age.melt(id_vars=id_vars, value_vars=[\"young\",\"old\"], var_name=f\"group\", value_name=\"value\")\n",
    "data_noDP_age_melted[\"Mode\"] = \"without DP\"\n",
    "data_DP_age_melted = data_DP_age.melt(id_vars=id_vars, value_vars=[\"young\", \"old\"], var_name=f\"group\",value_name=\"value\")\n",
    "data_DP_age_melted[\"Mode\"] = \"with DP\"\n",
    "\n",
    "data_noDP_sex_melted = data_noDP_sex.melt(id_vars=id_vars, value_vars=[\"female\",\"male\"], var_name=f\"group\", value_name=\"value\")\n",
    "data_noDP_sex_melted[\"Mode\"] = \"without DP\"\n",
    "data_DP_sex_melted = data_DP_sex.melt(id_vars=id_vars, value_vars=[\"female\", \"male\"], var_name=f\"group\",value_name=\"value\")\n",
    "data_DP_sex_melted[\"Mode\"] = \"with DP\"\n",
    "df = pd.concat([data_noDP_sex_melted, data_DP_sex_melted], axis=0)\n",
    "df.value = df.value * 100"
   ],
   "metadata": {
    "collapsed": false
   },
   "id": "2949cee641b3b78"
  },
  {
   "cell_type": "code",
   "execution_count": null,
   "outputs": [],
   "source": [
    "df = df.loc[df.protected_attr_percent == 0.5]"
   ],
   "metadata": {
    "collapsed": false
   },
   "id": "3309dd3b3f5662c2"
  },
  {
   "cell_type": "code",
   "execution_count": null,
   "outputs": [],
   "source": [
    "fontSize = 25\n",
    "plt.figure(figsize=(10, 10))\n",
    "\n",
    "rc={\"figure.dpi\": 300, 'savefig.dpi': 300, 'axes.labelsize': fontSize, 'axes.titlesize': fontSize, 'font.size': fontSize, 'legend.fontsize': fontSize*0.8, 'axes.facecolor':'#EEEEEE', 'figure.facecolor':'#EEEEEE' }\n",
    "plt.rcParams.update(rc)"
   ],
   "metadata": {
    "collapsed": false
   },
   "id": "b4afa93a13f32306"
  },
  {
   "cell_type": "code",
   "execution_count": null,
   "outputs": [],
   "source": [
    "palette = {\n",
    "    #\"old\":TUM_colors[\"TUMAccentBlue\"], \n",
    "    \"old\":\"#9FC5E8\", \n",
    "    \"young\":\"#F6B26B\", \n",
    "    #\"young\":TUM_colors[\"TUMAccentOrange\"], \n",
    "    \"male\":\"#6D9EEB\", \n",
    "    #\"male\":TUM_colors[\"TUMAccentBlue\"], \n",
    "    \"female\":\"#F6B26B\"\n",
    "    #\"female\":TUM_colors[\"TUMAccentOrange\"]\n",
    "}"
   ],
   "metadata": {
    "collapsed": false
   },
   "id": "6aa9bcaffff1b16e"
  },
  {
   "cell_type": "code",
   "execution_count": null,
   "outputs": [],
   "source": [
    "sns.barplot(data=df, x=\"Mode\", y=\"value\", hue=\"group\", palette=palette)\n",
    "plt.ylim(0, 100)\n",
    "plt.xlabel(\"Mode\")\n",
    "plt.ylabel(\"s-AUC\")"
   ],
   "metadata": {
    "collapsed": false
   },
   "id": "12ecf8aa00ae226e"
  },
  {
   "cell_type": "code",
   "execution_count": null,
   "outputs": [],
   "source": [
    "def load_csvs_into_df(dir):\n",
    "    dirs = [os.path.join(dir,d) for d in os.listdir(dir) if os.path.isdir(os.path.join(dir,d))]\n",
    "    dfs = []\n",
    "    for d in dirs:\n",
    "        seeds = [f for f in os.listdir(os.path.join('./',d)) if f.startswith('seed')]\n",
    "        score_var = d.split(\"/\")[-1].split(\"-\")[0]\n",
    "        dp = not \"noDP\" in d\n",
    "        if dp:\n",
    "            num_samples = int(d.split(\"/\")[-1].split(\"-\")[-1].split(\"_\")[0])\n",
    "        else:\n",
    "            num_samples = int(d.split(\"/\")[-1].split(\"-\")[-1])\n",
    "        for seed in seeds:\n",
    "            results = [f for f in os.listdir(os.path.join(d,seed)) if f.startswith('test_results')]\n",
    "            for results_dir in results:\n",
    "                results_df = pd.read_csv(os.path.join(d, seed, results_dir))\n",
    "                results_df[\"score_var\"] = score_var\n",
    "                results_df[\"num_samples\"] = num_samples\n",
    "                dfs.append(results_df)\n",
    "    return pd.concat(dfs, ignore_index=True)"
   ],
   "metadata": {
    "collapsed": false
   },
   "id": "7024fa862d2ae0ad"
  },
  {
   "cell_type": "code",
   "execution_count": null,
   "outputs": [],
   "source": [
    "data_noDP = load_csvs_into_df(os.path.join(BASE_DIR, \"core-set-selection/2023-11-09 20:06:05-FAE-rsna-balanced-subsetperformance-noDP/old_percent_05_bestBytest\"))\n",
    "data_noDP = data_noDP.loc[data_noDP.dataset == \"rsna\"]\n",
    "data_DP = load_csvs_into_df(os.path.join(BASE_DIR, \"core-set-selection/2023-12-07 16:22:58-FAE-rsna-balanced-subsetperformance-DP/old_percent_05_bestBytest\"))"
   ],
   "metadata": {
    "collapsed": false
   },
   "id": "b25615b26da2651a"
  },
  {
   "cell_type": "code",
   "execution_count": null,
   "outputs": [],
   "source": [
    "metrics = (\n",
    "    f\"test/old_subgroupAUROC\", f\"test/young_subgroupAUROC\",\n",
    "    f\"test/female_subgroupAUROC\", f\"test/male_subgroupAUROC\"\n",
    ")"
   ],
   "metadata": {
    "collapsed": false
   },
   "id": "f0644faf3e94e7e8"
  },
  {
   "cell_type": "code",
   "execution_count": null,
   "outputs": [],
   "source": [
    "data_noDP = data_noDP[[*metrics, \"dataset\", \"seed\", \"score_var\",\"num_samples\"]]\n",
    "data_noDP = data_noDP.melt(id_vars=[\"seed\", \"dataset\", \"score_var\",\"num_samples\"], var_name=\"group\", value_name=\"value\")"
   ],
   "metadata": {
    "collapsed": false
   },
   "id": "c8584f22b0b365f0"
  },
  {
   "cell_type": "code",
   "execution_count": null,
   "outputs": [],
   "source": [
    "data_noDP = data_noDP.loc[data_noDP.num_samples == 250]\n",
    "data_noDP = data_noDP.loc[(data_noDP.group == \"test/female_subgroupAUROC\") | (data_noDP.group == \"test/male_subgroupAUROC\")]\n",
    "data_noDP = data_noDP.loc[data_noDP.score_var == \"female_subgroupAUROC\"]\n",
    "data_noDP[\"Mode\"] = \"without DP\""
   ],
   "metadata": {
    "collapsed": false
   },
   "id": "36dbbbe8b71e81e6"
  },
  {
   "cell_type": "code",
   "execution_count": null,
   "outputs": [],
   "source": [
    "data_DP = data_DP[[*metrics, \"dataset\", \"seed\", \"score_var\",\"num_samples\"]]\n",
    "data_DP = data_DP.melt(id_vars=[\"seed\", \"dataset\", \"score_var\",\"num_samples\"], var_name=\"group\", value_name=\"value\")"
   ],
   "metadata": {
    "collapsed": false
   },
   "id": "6433f0f5f532ab30"
  },
  {
   "cell_type": "code",
   "execution_count": null,
   "outputs": [],
   "source": [
    "data_DP = data_DP.loc[data_DP.num_samples == 250]\n",
    "data_DP = data_DP.loc[(data_DP.group == \"test/female_subgroupAUROC\") | (data_DP.group == \"test/male_subgroupAUROC\")]\n",
    "data_DP = data_DP.loc[data_DP.score_var == \"female_subgroupAUROC\"]\n",
    "data_DP[\"Mode\"] = \"with DP\""
   ],
   "metadata": {
    "collapsed": false
   },
   "id": "865ab36643ce49cf"
  },
  {
   "cell_type": "code",
   "execution_count": null,
   "outputs": [],
   "source": [
    "df = pd.concat([data_noDP, data_DP], axis=0)\n",
    "df.value = df.value * 100"
   ],
   "metadata": {
    "collapsed": false
   },
   "id": "51c6d2cd70b90a3f"
  },
  {
   "cell_type": "code",
   "execution_count": null,
   "outputs": [],
   "source": [
    "# replace metric names\n",
    "df.group = df.group.replace({\"test/female_subgroupAUROC\": \"female\", \"test/male_subgroupAUROC\": \"male\"})"
   ],
   "metadata": {
    "collapsed": false
   },
   "id": "bab8c012a8da8fb6"
  },
  {
   "cell_type": "code",
   "execution_count": null,
   "outputs": [],
   "source": [
    "sns.barplot(data=df, x=\"Mode\", y=\"value\", hue=\"group\", palette=palette)\n",
    "plt.ylim(0, 100)\n",
    "plt.xlabel(\"Mode\")\n",
    "plt.ylabel(\"s-AUC\")"
   ],
   "metadata": {
    "collapsed": false
   },
   "id": "81166abf7b919f0b"
  }
 ],
 "metadata": {
  "kernelspec": {
   "display_name": "Python 3",
   "language": "python",
   "name": "python3"
  },
  "language_info": {
   "codemirror_mode": {
    "name": "ipython",
    "version": 2
   },
   "file_extension": ".py",
   "mimetype": "text/x-python",
   "name": "python",
   "nbconvert_exporter": "python",
   "pygments_lexer": "ipython2",
   "version": "2.7.6"
  }
 },
 "nbformat": 4,
 "nbformat_minor": 5
}
